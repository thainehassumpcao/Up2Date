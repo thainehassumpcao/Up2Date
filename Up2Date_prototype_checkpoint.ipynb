{
  "nbformat": 4,
  "nbformat_minor": 0,
  "metadata": {
    "kernelspec": {
      "display_name": "Python 3",
      "language": "python",
      "name": "python3"
    },
    "language_info": {
      "codemirror_mode": {
        "name": "ipython",
        "version": 3
      },
      "file_extension": ".py",
      "mimetype": "text/x-python",
      "name": "python",
      "nbconvert_exporter": "python",
      "pygments_lexer": "ipython3",
      "version": "3.7.4"
    },
    "colab": {
      "name": "Up2Date_prototype-checkpoint.ipynb",
      "provenance": [],
      "collapsed_sections": [
        "NAXxG-Hz4v1T"
      ],
      "toc_visible": true,
      "include_colab_link": true
    }
  },
  "cells": [
    {
      "cell_type": "markdown",
      "metadata": {
        "id": "view-in-github",
        "colab_type": "text"
      },
      "source": [
        "<a href=\"https://colab.research.google.com/github/thainehassumpcao/Up2Date/blob/master/Up2Date_prototype_checkpoint.ipynb\" target=\"_parent\"><img src=\"https://colab.research.google.com/assets/colab-badge.svg\" alt=\"Open In Colab\"/></a>"
      ]
    },
    {
      "cell_type": "markdown",
      "metadata": {
        "id": "RGtYN4IQ3dSc"
      },
      "source": [
        "# **Up2Date prototype**\n",
        "This prototype showcases the concept proposed by our team (Up2Date) at the Copernicus Barcelona Hackathon.\n",
        "\n",
        "**Goal:** to improve flood preparedness by updating GloFAS impact forecast services, based on satellite images. The Minimum Viable Product is focused on agricultural areas.\n",
        "\n",
        "Two products are proposed:\n",
        "\n",
        "*   Product 1: updated affected agricultural areas\n",
        "*   Product 2: updated impact assessment statistics\n",
        "\n",
        "\n",
        "### **Prototype details and methodology**\n",
        "\n",
        "We focus on a flood occuring in September 2020 at the Sindh province in Pakistan, namely updating the forecast done on 01-09-2020.\n",
        "\n",
        "The steps taken are:\n",
        "\n",
        "1.   Fetch forecasted data:\n",
        "    * Flood extent: manifactured to be similar to the flood extent visualized in GloFAS. It was created based on the Copernicus global flood hazard map with return of 10 years. \n",
        "    * Impact assessment: extracted manually from GloFAS html\n",
        "2.   Search satellite images\n",
        "3.   \n",
        "\n",
        "\n",
        "\n"
      ]
    },
    {
      "cell_type": "code",
      "metadata": {
        "id": "YL8-qeeY5DSY"
      },
      "source": [
        "import numpy as np\n",
        "import requests\n",
        "from zipfile import ZipFile\n",
        "from pathlib import Path\n",
        "import pandas as pd\n",
        "from bs4 import BeautifulSoup"
      ],
      "execution_count": null,
      "outputs": []
    },
    {
      "cell_type": "markdown",
      "metadata": {
        "id": "_0BizSnN3x8F"
      },
      "source": [
        "##Fetch forecasted data"
      ]
    },
    {
      "cell_type": "code",
      "metadata": {
        "id": "DZOffdww3dSe",
        "outputId": "df8e6ba9-f231-4448-f0d3-374219b4fb39",
        "colab": {
          "base_uri": "https://localhost:8080/"
        }
      },
      "source": [
        "# Fetch flood extent map\n",
        "def fetch_static_flood_map(rp, location=None):\n",
        "    \"\"\" Fetch static flood hazard maps from Copernicus\"\"\"\n",
        "\n",
        "    filename = 'floodMapGL_rp{}y.zip'.format(rp)\n",
        "    url = 'http://cidportal.jrc.ec.europa.eu/' \\\n",
        "    'ftp/jrc-opendata/FLOODS/GlobalMaps/{}'.format(filename)\n",
        "\n",
        "    r = requests.get(url, allow_redirects=True)\n",
        "    open(filename, 'wb').write(r.content)\n",
        "    with ZipFile(filename, 'r') as zipObj:\n",
        "        zipObj.extractall()\n",
        "    Path(filename).unlink()\n",
        "\n",
        "def load_toy_flood_extent_map():\n",
        "    \"\"\"Load a .tiff flood extent map created for this prototype\"\"\"\n",
        "\n",
        "    if Path('AOI.geojson').is_file():\n",
        "        print('File already exists')\n",
        "        return\n",
        "    else:\n",
        "        !git clone -l -s https://github.com/thainehassumpcao/Up2Date cloned-repo\n",
        "        return\n",
        "\n",
        "# fetch_static_flood_map(100)\n",
        "load_toy_flood_extent_map()"
      ],
      "execution_count": null,
      "outputs": [
        {
          "output_type": "stream",
          "text": [
            "Cloning into 'cloned-repo'...\n",
            "warning: --local is ignored\n",
            "remote: Enumerating objects: 10, done.\u001b[K\n",
            "remote: Counting objects: 100% (10/10), done.\u001b[K\n",
            "remote: Compressing objects: 100% (9/9), done.\u001b[K\n",
            "remote: Total 10 (delta 3), reused 6 (delta 1), pack-reused 0\u001b[K\n",
            "Unpacking objects: 100% (10/10), done.\n"
          ],
          "name": "stdout"
        }
      ]
    },
    {
      "cell_type": "code",
      "metadata": {
        "id": "CQH3qWa5vQ0i",
        "outputId": "a21b73c3-8c4c-477a-e800-850e3313a1ee",
        "colab": {
          "base_uri": "https://localhost:8080/",
          "height": 340
        }
      },
      "source": [
        "# Fetch impact assessment \n",
        "html_string = \"\"\"\n",
        "<tbody>\n",
        "    <tr>\n",
        "        <th scope=\"row\">Estimated protection levels [yr]</th>\n",
        "        <td class=\"text-center\">0</td>\n",
        "    </tr>\n",
        "    <tr>\n",
        "        <th scope=\"row\">Population affected [No. of people]</th>\n",
        "        <td class=\"text-center\">325200</td>\n",
        "    </tr>\n",
        "    <tr>\n",
        "        <th scope=\"row\">Artificial surfaces [ha]</th>\n",
        "        <td class=\"text-center\">1</td>\n",
        "    </tr>\n",
        "    <tr>\n",
        "        <th scope=\"row\">Agricultural surfaces [ha]</th>\n",
        "        <td class=\"text-center\">914</td>\n",
        "    </tr>\n",
        "    <tr>\n",
        "        <th scope=\"row\">Forest and seminatural [ha]</th>\n",
        "        <td class=\"text-center\">N/A</td>\n",
        "    </tr>\n",
        "    <tr>\n",
        "        <th scope=\"row\">Estimated peak time [d]</th>\n",
        "        <td class=\"text-center\">1</td>\n",
        "    </tr>\n",
        "    <tr>\n",
        "        <th scope=\"row\">Estimated mean return period [yr]</th>\n",
        "        <td class=\"text-center\">12</td>\n",
        "    </tr>\n",
        "    <tr>\n",
        "        <th scope=\"row\">Mean probability of exceeding 2-years threshold</th>\n",
        "        <td class=\"text-center\">100</td>\n",
        "    </tr>\n",
        "    <tr>\n",
        "        <th scope=\"row\">Mean probability of exceeding 5-years threshold</th>\n",
        "        <td class=\"text-center\">100</td>\n",
        "    </tr>\n",
        "    <tr>\n",
        "        <th scope=\"row\">Mean probability of exceeding 20-years threshold</th>\n",
        "        <td class=\"text-center\">24</td>\n",
        "    </tr>\n",
        "</tbody>\n",
        "\"\"\"\n",
        "\n",
        "soup = BeautifulSoup(html_string, 'lxml')\n",
        "table = soup.find_all('tbody')[0]\n",
        "n_rows = len(table.find_all('th'))\n",
        "new_table = pd.DataFrame(columns=range(0,2), index = range(0,n_rows))\n",
        "\n",
        "for row_number, row in enumerate(table.find_all('tr')):\n",
        "    column_parameter = row.find_all('th')\n",
        "    column_value = row.find_all('td')\n",
        "    new_table.iat[row_number, 0] = column_parameter[0].get_text()\n",
        "    new_table.iat[row_number, 1] = column_value[0].get_text()\n",
        "\n",
        "new_table"
      ],
      "execution_count": null,
      "outputs": [
        {
          "output_type": "execute_result",
          "data": {
            "text/html": [
              "<div>\n",
              "<style scoped>\n",
              "    .dataframe tbody tr th:only-of-type {\n",
              "        vertical-align: middle;\n",
              "    }\n",
              "\n",
              "    .dataframe tbody tr th {\n",
              "        vertical-align: top;\n",
              "    }\n",
              "\n",
              "    .dataframe thead th {\n",
              "        text-align: right;\n",
              "    }\n",
              "</style>\n",
              "<table border=\"1\" class=\"dataframe\">\n",
              "  <thead>\n",
              "    <tr style=\"text-align: right;\">\n",
              "      <th></th>\n",
              "      <th>0</th>\n",
              "      <th>1</th>\n",
              "    </tr>\n",
              "  </thead>\n",
              "  <tbody>\n",
              "    <tr>\n",
              "      <th>0</th>\n",
              "      <td>Estimated protection levels [yr]</td>\n",
              "      <td>0</td>\n",
              "    </tr>\n",
              "    <tr>\n",
              "      <th>1</th>\n",
              "      <td>Population affected [No. of people]</td>\n",
              "      <td>325200</td>\n",
              "    </tr>\n",
              "    <tr>\n",
              "      <th>2</th>\n",
              "      <td>Artificial surfaces [ha]</td>\n",
              "      <td>1</td>\n",
              "    </tr>\n",
              "    <tr>\n",
              "      <th>3</th>\n",
              "      <td>Agricultural surfaces [ha]</td>\n",
              "      <td>914</td>\n",
              "    </tr>\n",
              "    <tr>\n",
              "      <th>4</th>\n",
              "      <td>Forest and seminatural [ha]</td>\n",
              "      <td>N/A</td>\n",
              "    </tr>\n",
              "    <tr>\n",
              "      <th>5</th>\n",
              "      <td>Estimated peak time [d]</td>\n",
              "      <td>1</td>\n",
              "    </tr>\n",
              "    <tr>\n",
              "      <th>6</th>\n",
              "      <td>Estimated mean return period [yr]</td>\n",
              "      <td>12</td>\n",
              "    </tr>\n",
              "    <tr>\n",
              "      <th>7</th>\n",
              "      <td>Mean probability of exceeding 2-years threshold</td>\n",
              "      <td>100</td>\n",
              "    </tr>\n",
              "    <tr>\n",
              "      <th>8</th>\n",
              "      <td>Mean probability of exceeding 5-years threshold</td>\n",
              "      <td>100</td>\n",
              "    </tr>\n",
              "    <tr>\n",
              "      <th>9</th>\n",
              "      <td>Mean probability of exceeding 20-years threshold</td>\n",
              "      <td>24</td>\n",
              "    </tr>\n",
              "  </tbody>\n",
              "</table>\n",
              "</div>"
            ],
            "text/plain": [
              "                                                  0       1\n",
              "0                  Estimated protection levels [yr]       0\n",
              "1               Population affected [No. of people]  325200\n",
              "2                          Artificial surfaces [ha]       1\n",
              "3                        Agricultural surfaces [ha]     914\n",
              "4                       Forest and seminatural [ha]     N/A\n",
              "5                           Estimated peak time [d]       1\n",
              "6                 Estimated mean return period [yr]      12\n",
              "7   Mean probability of exceeding 2-years threshold     100\n",
              "8   Mean probability of exceeding 5-years threshold     100\n",
              "9  Mean probability of exceeding 20-years threshold      24"
            ]
          },
          "metadata": {
            "tags": []
          },
          "execution_count": 9
        }
      ]
    },
    {
      "cell_type": "markdown",
      "metadata": {
        "id": "huIT3JdE3ykS"
      },
      "source": [
        "##Search satellite images"
      ]
    },
    {
      "cell_type": "code",
      "metadata": {
        "id": "JRFG5kA3SNDO"
      },
      "source": [
        "# Prepare Area of Interest Polygon\n",
        "#Extract max extents from shapefile"
      ],
      "execution_count": null,
      "outputs": []
    },
    {
      "cell_type": "code",
      "metadata": {
        "id": "WciCPfu-3y8o"
      },
      "source": [
        "# Prepare the API - Require credentials to access the copernicus hub:\n",
        "user = input('User name: ')\n",
        "password = getpass('Password: ')\n",
        "api = SentinelAPI(user, password, 'https://scihub.copernicus.eu/apihub')\n",
        "del user, password\n",
        "\n",
        "# Query products based on an Area of Interest and date interval\n",
        "AOI = read_geojson('AOI.geojson')\n",
        "products = api.query(\n",
        "    area = geojson_to_wkt(AOI),\n",
        "    date = ('20200523', '20200627'),\n",
        "    platformname = 'Sentinel-2',\n",
        "    cloudcoverpercentage=(0,30))"
      ],
      "execution_count": null,
      "outputs": []
    },
    {
      "cell_type": "markdown",
      "metadata": {
        "id": "0s-XO6aN4NUA"
      },
      "source": [
        "##Assess crop yield"
      ]
    },
    {
      "cell_type": "code",
      "metadata": {
        "id": "vKx0kIit4MWl"
      },
      "source": [
        ""
      ],
      "execution_count": null,
      "outputs": []
    },
    {
      "cell_type": "markdown",
      "metadata": {
        "id": "0neze7Cd4hUb"
      },
      "source": [
        "#Re-assess impact"
      ]
    },
    {
      "cell_type": "code",
      "metadata": {
        "id": "9JF0kDDX4gpR"
      },
      "source": [
        ""
      ],
      "execution_count": null,
      "outputs": []
    },
    {
      "cell_type": "markdown",
      "metadata": {
        "id": "a1LiTEPm4qR0"
      },
      "source": [
        "## Product 1: Affected agricultural areas"
      ]
    },
    {
      "cell_type": "code",
      "metadata": {
        "id": "mzdMYrHx4nxi"
      },
      "source": [
        ""
      ],
      "execution_count": null,
      "outputs": []
    },
    {
      "cell_type": "markdown",
      "metadata": {
        "id": "NAXxG-Hz4v1T"
      },
      "source": [
        "## Product 2: updated impact assessment"
      ]
    }
  ]
}