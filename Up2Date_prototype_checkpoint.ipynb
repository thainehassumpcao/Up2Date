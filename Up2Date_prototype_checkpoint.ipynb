{
  "nbformat": 4,
  "nbformat_minor": 0,
  "metadata": {
    "kernelspec": {
      "display_name": "Python 3",
      "language": "python",
      "name": "python3"
    },
    "language_info": {
      "codemirror_mode": {
        "name": "ipython",
        "version": 3
      },
      "file_extension": ".py",
      "mimetype": "text/x-python",
      "name": "python",
      "nbconvert_exporter": "python",
      "pygments_lexer": "ipython3",
      "version": "3.7.4"
    },
    "colab": {
      "name": "Up2Date_prototype-checkpoint.ipynb",
      "provenance": [],
      "collapsed_sections": [
        "huIT3JdE3ykS",
        "0s-XO6aN4NUA",
        "NAXxG-Hz4v1T"
      ],
      "toc_visible": true,
      "include_colab_link": true
    }
  },
  "cells": [
    {
      "cell_type": "markdown",
      "metadata": {
        "id": "view-in-github",
        "colab_type": "text"
      },
      "source": [
        "<a href=\"https://colab.research.google.com/github/thainehassumpcao/Up2Date/blob/master/Up2Date_prototype_checkpoint.ipynb\" target=\"_parent\"><img src=\"https://colab.research.google.com/assets/colab-badge.svg\" alt=\"Open In Colab\"/></a>"
      ]
    },
    {
      "cell_type": "markdown",
      "metadata": {
        "id": "RGtYN4IQ3dSc"
      },
      "source": [
        "# **Up2Date prototype**"
      ]
    },
    {
      "cell_type": "code",
      "metadata": {
        "id": "YL8-qeeY5DSY"
      },
      "source": [
        "import numpy as np\n",
        "import requests\n",
        "from zipfile import ZipFile\n",
        "from pathlib import Path"
      ],
      "execution_count": 21,
      "outputs": []
    },
    {
      "cell_type": "markdown",
      "metadata": {
        "id": "_0BizSnN3x8F"
      },
      "source": [
        "##Fetch forecasted data"
      ]
    },
    {
      "cell_type": "code",
      "metadata": {
        "id": "DZOffdww3dSe"
      },
      "source": [
        "# Fetch flood extent map\n",
        "def fetch_static_flood_map(rp, location=None):\n",
        "    \"\"\" Fetch static flood hazard maps from Copernicus\"\"\"\n",
        "\n",
        "    filename = 'floodMapGL_rp{}y.zip'.format(rp)\n",
        "    url = 'http://cidportal.jrc.ec.europa.eu/' \\\n",
        "    'ftp/jrc-opendata/FLOODS/GlobalMaps/{}'.format(filename)\n",
        "\n",
        "    r = requests.get(url, allow_redirects=True)\n",
        "    open(filename, 'wb').write(r.content)\n",
        "    with ZipFile(filename, 'r') as zipObj:\n",
        "        zipObj.extractall()\n",
        "    Path(filename).unlink()\n",
        "\n",
        "def load_toy_flood_extent_map():\n",
        "    \"\"\"Load a .tiff flood extent map created for this prototype\"\"\"\n",
        "\n",
        "    if Path('AOI.geojson').is_file():\n",
        "        print('File already exists')\n",
        "        return\n",
        "    else:\n",
        "        !git clone -l -s https://github.com/thainehassumpcao/Up2Date cloned-repo\n",
        "        return\n",
        "\n",
        "# fetch_static_flood_map(100)\n",
        "load_toy_flood_extent_map()"
      ],
      "execution_count": 23,
      "outputs": []
    },
    {
      "cell_type": "markdown",
      "metadata": {
        "id": "huIT3JdE3ykS"
      },
      "source": [
        "##Search satellite images"
      ]
    },
    {
      "cell_type": "code",
      "metadata": {
        "id": "WciCPfu-3y8o"
      },
      "source": [
        ""
      ],
      "execution_count": null,
      "outputs": []
    },
    {
      "cell_type": "markdown",
      "metadata": {
        "id": "0s-XO6aN4NUA"
      },
      "source": [
        "##Assess crop yield"
      ]
    },
    {
      "cell_type": "code",
      "metadata": {
        "id": "vKx0kIit4MWl"
      },
      "source": [
        ""
      ],
      "execution_count": null,
      "outputs": []
    },
    {
      "cell_type": "markdown",
      "metadata": {
        "id": "0neze7Cd4hUb"
      },
      "source": [
        "#Re-assess impact"
      ]
    },
    {
      "cell_type": "code",
      "metadata": {
        "id": "9JF0kDDX4gpR"
      },
      "source": [
        ""
      ],
      "execution_count": null,
      "outputs": []
    },
    {
      "cell_type": "markdown",
      "metadata": {
        "id": "a1LiTEPm4qR0"
      },
      "source": [
        "## Product 1: Affected agricultural areas"
      ]
    },
    {
      "cell_type": "code",
      "metadata": {
        "id": "mzdMYrHx4nxi"
      },
      "source": [
        ""
      ],
      "execution_count": null,
      "outputs": []
    },
    {
      "cell_type": "markdown",
      "metadata": {
        "id": "NAXxG-Hz4v1T"
      },
      "source": [
        "## Product 2: updated impact assessment"
      ]
    }
  ]
}